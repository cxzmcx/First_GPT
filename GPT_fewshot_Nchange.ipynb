{
 "cells": [
  {
   "cell_type": "code",
   "execution_count": 1,
   "id": "24a9799f-a5fc-470a-868d-fc2f3540def3",
   "metadata": {},
   "outputs": [],
   "source": [
    "import pandas as pd\n",
    "import openai\n",
    "from sklearn.feature_extraction.text import TfidfVectorizer\n",
    "from sklearn.metrics.pairwise import cosine_similarity\n",
    "import re\n",
    "from openai import OpenAI\n",
    "import json\n",
    "from difflib import get_close_matches\n",
    "import numpy as np\n",
    "import jieba"
   ]
  },
  {
   "cell_type": "code",
   "execution_count": 3,
   "id": "69bb53ba-af61-460b-8e24-28bdfed75135",
   "metadata": {},
   "outputs": [],
   "source": [
    "processed_example = 'D:/processed_example.xlsx'"
   ]
  },
  {
   "cell_type": "code",
   "execution_count": 4,
   "id": "ff3d9c86-6003-4562-adcc-8dbf7e04f4ac",
   "metadata": {},
   "outputs": [],
   "source": [
    "p_xls =  pd.ExcelFile(processed_example)\n",
    "processed_example_file = {sheet_name: p_xls.parse(sheet_name) for sheet_name in p_xls.sheet_names}"
   ]
  },
  {
   "cell_type": "code",
   "execution_count": 5,
   "id": "1ce03faa-32bf-4f6f-970c-ac99253a80fe",
   "metadata": {},
   "outputs": [],
   "source": [
    "# 读取Excel文件\n",
    "file_path = 'D:/example.xlsx'\n",
    "xls = pd.ExcelFile(file_path)\n",
    "sheets = {sheet_name: xls.parse(sheet_name) for sheet_name in xls.sheet_names}\n",
    "standard_dept_file_path = 'D:/标准科室列表.xlsx'\n",
    "std_xls = pd.ExcelFile(standard_dept_file_path)\n",
    "std_sheets = {sheet_name: std_xls.parse(sheet_name) for sheet_name in std_xls.sheet_names}\n"
   ]
  },
  {
   "cell_type": "code",
   "execution_count": 6,
   "id": "3cabc45a-65af-4ea6-8dfb-a9b3cfea3a61",
   "metadata": {},
   "outputs": [],
   "source": [
    "client = OpenAI(\n",
    "    base_url=\"http://101.6.65.141:3011/v1\"\n",
    "    , api_key=\\"\n",
    ")\n"
   ]
  },
  {
   "cell_type": "code",
   "execution_count": 7,
   "id": "30ff5a21-12c8-4aff-ae30-68f3a7ff9914",
   "metadata": {},
   "outputs": [],
   "source": [
    "def determine_source(new_dialog, sheets):\n",
    "    # 将所有工作表的数据合并\n",
    "    all_data = []\n",
    "    for sheet_name, df in sheets.items():\n",
    "        for dialogue in df['dialogue']:\n",
    "            all_data.append((sheet_name, dialogue))\n",
    "    \n",
    "    # 创建一个 DataFrame 存储所有数据\n",
    "    all_df = pd.DataFrame(all_data, columns=['sheet_name', 'dialogue'])\n",
    "    \n",
    "    # 使用 TfidfVectorizer 对所有数据进行向量化\n",
    "    vectorizer = TfidfVectorizer()\n",
    "    tfidf_matrix = vectorizer.fit_transform(all_df['dialogue'].astype(str))\n",
    "    \n",
    "    # 对新的对话进行向量化\n",
    "    new_dialog_tfidf = vectorizer.transform([new_dialog])\n",
    "    \n",
    "    # 计算相似度\n",
    "    cos_sim = cosine_similarity(new_dialog_tfidf, tfidf_matrix).flatten()\n",
    "    max_sim_index = cos_sim.argmax()\n",
    "    \n",
    "    # 返回最相似对话的工作表名称\n",
    "    best_source = all_df.loc[max_sim_index, 'sheet_name']\n",
    "    \n",
    "    return best_source\n"
   ]
  },
  {
   "cell_type": "code",
   "execution_count": 8,
   "id": "ac5be76f-a491-49f4-bc5f-05d2a44b5fd4",
   "metadata": {},
   "outputs": [],
   "source": [
    "def find_most_similar_dialogue_and_cot_response(processed_example_file, source, new_dialog):\n",
    "    # 读取指定的工作表\n",
    "    df = processed_example_file[source]\n",
    "    \n",
    "    # 初始化TF-IDF向量化器\n",
    "    vectorizer = TfidfVectorizer()\n",
    "    \n",
    "    # 获取所有对话\n",
    "    dialogues = df['dialogue'].tolist()\n",
    "    \n",
    "    # 添加new_dialog到对话列表中\n",
    "    dialogues.append(new_dialog)\n",
    "    \n",
    "    # 计算TF-IDF矩阵\n",
    "    tfidf_matrix = vectorizer.fit_transform(dialogues)\n",
    "    \n",
    "    # 计算新对话与所有对话的余弦相似度\n",
    "    cosine_similarities = cosine_similarity(tfidf_matrix[-1], tfidf_matrix[:-1]).flatten()\n",
    "    \n",
    "    # 找到相似度最高的两个对话的索引\n",
    "    top_indices = np.argsort(cosine_similarities)[::-1][:2]\n",
    "    \n",
    "    # 找到第二高相似度的对话\n",
    "    second_max_sim_index = top_indices[1] if len(top_indices) > 1 else top_indices[0]\n",
    "    \n",
    "    # 获取第二高相似度对话及其对应的cot_response\n",
    "    best_dialogue = dialogues[second_max_sim_index]\n",
    "    best_cot_response = df.loc[second_max_sim_index, 'cot_response']\n",
    " \n",
    "    # 创建few_shot字典\n",
    "    few_shot = {\n",
    "        \"dialogue\": best_dialogue,\n",
    "        \"question\": \"患者应该挂什么科？\",\n",
    "        \"cot_response\": best_cot_response\n",
    "    }\n",
    "    \n",
    "    return few_shot"
   ]
  },
  {
   "cell_type": "code",
   "execution_count": 9,
   "id": "de0bc478-48ec-4af2-be73-36ef56315702",
   "metadata": {},
   "outputs": [],
   "source": [
    "# 定义一个函数来获取候选科室\n",
    "def get_candidate_departments(department, std_sheets):\n",
    "    if department in std_sheets:\n",
    "        return std_sheets[department].iloc[:, 0].tolist()  # 获取第一列的所有值\n",
    "    return []"
   ]
  },
  {
   "cell_type": "code",
   "execution_count": 10,
   "id": "1d1f97f9-ad3c-4e6c-8fd2-08720d7d547a",
   "metadata": {},
   "outputs": [],
   "source": [
    "# 生成最终Prompt\n",
    "def generate_final_prompt(new_dialog, few_shot, departments):\n",
    "    # 根据departments中的科室信息构建prompt\n",
    "    department_prompt = '或'.join(departments)\n",
    "  \n",
    "    prompt = (f\"{few_shot}\"\n",
    "              f\"新的对话: {new_dialog}\"\n",
    "              f\"问题: 患者应该挂哪个科室？\"\n",
    "              f\"请根据以上示例生成详细的推理过程和最终的建议。输出不包含对话，只包含推理过程和建议，最终的建议挂的科室肯定是存在{department_prompt}中的,没有出现在{department_prompt}的专业科室不要出现在推理过程中。\")\n",
    "    \n",
    "    return prompt"
   ]
  },
  {
   "cell_type": "code",
   "execution_count": 11,
   "id": "5ee586fd-c43b-4a37-b9b0-61d2cc1f3334",
   "metadata": {},
   "outputs": [],
   "source": [
    "# API输出\n",
    "def get_api_output(prompt):\n",
    "    response =  client.chat.completions.create(\n",
    "        model='gpt-3.5-turbo',\n",
    "        messages=[\n",
    "            {\"role\": \"system\", \"content\": \"你是一名医生助手。\"},\n",
    "            {\"role\": \"user\", \"content\": prompt},\n",
    "        ],\n",
    "        max_tokens=600,\n",
    "        temperature=0.7,\n",
    "        top_p=0.9,\n",
    "        n=1,\n",
    "        stop=None\n",
    "    )\n",
    "    api_out = response.choices[0].message.content\n",
    "\n",
    "    lines = [line.strip() for line in api_out.split('\\n') if line.strip()] \n",
    "    formatted_output = ' '.join(lines)\n",
    "    return formatted_output\n"
   ]
  },
  {
   "cell_type": "code",
   "execution_count": 12,
   "id": "1ebe36bb-688f-43f9-968c-7000e6411d88",
   "metadata": {},
   "outputs": [],
   "source": [
    "def find_closest_department(api_out_content, candidate_departments):\n",
    "    # 确保 api_out_content 是一个字符串\n",
    "    if isinstance(api_out_content, tuple):\n",
    "        api_out_content = ''.join(api_out_content)\n",
    "    \n",
    "    # 找到并提取建议内容\n",
    "    suggestion_start = api_out_content.find('建议')\n",
    "    if suggestion_start != -1:\n",
    "        suggestion = api_out_content[suggestion_start:].replace('建议', '').strip()\n",
    "    else:\n",
    "        return \"无建议内容\"\n",
    "\n",
    "    # 分词\n",
    "    suggestion_tokens = ' '.join(jieba.lcut(suggestion))\n",
    "    department_tokens = [' '.join(jieba.lcut(dept)) for dept in candidate_departments]\n",
    "\n",
    "    # 使用TF-IDF计算相似度\n",
    "    vectorizer = TfidfVectorizer().fit_transform([suggestion_tokens] + department_tokens)\n",
    "    vectors = vectorizer.toarray()\n",
    "\n",
    "    cosine_matrix = cosine_similarity(vectors)\n",
    "    similarity_scores = cosine_matrix[0][1:]  # 与候选科室的相似度\n",
    "\n",
    "    # 输出相似度分数，便于调试\n",
    "    #for dept, score in zip(candidate_departments, similarity_scores):\n",
    "        #print(f\"科室: {dept}, 相似度得分: {score}\")\n",
    "\n",
    "    # 找到最相似的科室\n",
    "    best_match_index = np.argmax(similarity_scores)\n",
    "    return candidate_departments[best_match_index] if similarity_scores[best_match_index] > 0 else \"未找到匹配的科室\"\n"
   ]
  },
  {
   "cell_type": "code",
   "execution_count": 13,
   "id": "0ca3f70d-787f-44ed-958a-891d18f58b4f",
   "metadata": {},
   "outputs": [],
   "source": [
    "# 将结果保存为 JSON 文件\n",
    "def save_to_json(new_dialog, departments, few_shot, api_output, answer_department, source, file_path):\n",
    "   \n",
    "    data = {\n",
    "        \"dialogue\": new_dialog,\n",
    "        \"department\": departments,\n",
    "        \"few_shot\": few_shot,\n",
    "        \"question\": \"患者应该挂什么科？\",\n",
    "        \"api_output\": api_output,\n",
    "        \"answer_department\": answer_department,\n",
    "        \"sample_id\": \"sample_12\",  # 更新样本 ID\n",
    "        \"source\": source\n",
    "    }\n",
    "    # 使用 json.dumps 格式化 JSON 字符串\n",
    "    formatted_json = json.dumps(data, ensure_ascii=False, indent=4)\n",
    "\n",
    "    # 自定义处理数组的输出格式\n",
    "    # 查找所有数组的内容\n",
    "    formatted_json = re.sub(r'(\\[[^\\[\\]]*\\])', lambda m: m.group(1).replace('\\n', '').replace('  ', ''), formatted_json)\n",
    "    formatted_json = formatted_json.replace('\\\\n', '\\n')\n",
    "\n",
    "    with open(file_path, 'w', encoding='utf-8') as f:\n",
    "        f.write(formatted_json)\n"
   ]
  },
  {
   "cell_type": "code",
   "execution_count": 14,
   "id": "ba817298-207d-453b-9603-ffecb06744ec",
   "metadata": {},
   "outputs": [],
   "source": [
    "new_dialog =\"患者：女，22岁，反复口腔溃疡，最近一次一周了还没好，挂什么科？\"\n"
   ]
  },
  {
   "cell_type": "code",
   "execution_count": 15,
   "id": "dfbc647e-5987-4480-bdc9-6493cbd3994a",
   "metadata": {},
   "outputs": [],
   "source": [
    "source = determine_source(new_dialog, sheets)\n",
    "    "
   ]
  },
  {
   "cell_type": "code",
   "execution_count": 16,
   "id": "47aa0978-f6ab-4072-9c32-c345bd403c87",
   "metadata": {},
   "outputs": [
    {
     "data": {
      "text/plain": [
       "'专科-口腔'"
      ]
     },
     "execution_count": 16,
     "metadata": {},
     "output_type": "execute_result"
    }
   ],
   "source": [
    "source\n"
   ]
  },
  {
   "cell_type": "code",
   "execution_count": 17,
   "id": "13b23304-afdb-4e02-842a-d5f277e9b93d",
   "metadata": {},
   "outputs": [],
   "source": [
    "few_shot = find_most_similar_dialogue_and_cot_response(processed_example_file, source, new_dialog)"
   ]
  },
  {
   "cell_type": "code",
   "execution_count": 18,
   "id": "62ce0499-e33d-466b-be5c-5d0aa4ca58b6",
   "metadata": {},
   "outputs": [],
   "source": [
    "department = get_candidate_departments(source, std_sheets)"
   ]
  },
  {
   "cell_type": "code",
   "execution_count": 19,
   "id": "8dc49dbe-394d-42a3-9a93-620f5684a943",
   "metadata": {},
   "outputs": [
    {
     "data": {
      "text/plain": [
       "['牙体牙髓病专业',\n",
       " '牙周病专业',\n",
       " '口腔粘膜病专业',\n",
       " '儿童口腔专业',\n",
       " '口腔颌面外科专业',\n",
       " '口腔外科',\n",
       " '口腔颅颌面科',\n",
       " '口腔头颈颌面肿瘤科',\n",
       " '口腔修复专业',\n",
       " '口腔正畸专业',\n",
       " '口腔种植专业',\n",
       " '口腔麻醉专业',\n",
       " '口腔颌面医学影像专业',\n",
       " '口腔病理专业',\n",
       " '预防口腔专业',\n",
       " '其他']"
      ]
     },
     "execution_count": 19,
     "metadata": {},
     "output_type": "execute_result"
    }
   ],
   "source": [
    "department"
   ]
  },
  {
   "cell_type": "code",
   "execution_count": 29,
   "id": "78680919-c8f7-4f59-ad41-99dd6f1e6518",
   "metadata": {},
   "outputs": [],
   "source": [
    "prompt = generate_final_prompt(new_dialog, few_shot,department)"
   ]
  },
  {
   "cell_type": "code",
   "execution_count": 30,
   "id": "e237f12a-7ac8-4b66-bf3d-27348b307810",
   "metadata": {},
   "outputs": [],
   "source": [
    "api_out = get_api_output(prompt)"
   ]
  },
  {
   "cell_type": "code",
   "execution_count": 31,
   "id": "feb04402-d6e2-4628-9dca-b588bf2103a2",
   "metadata": {},
   "outputs": [],
   "source": [
    "formatted_output = re.sub(r'(\\d\\.\\s)', r'\\n\\1', api_out)"
   ]
  },
  {
   "cell_type": "code",
   "execution_count": 32,
   "id": "967908aa-fdb3-45fa-9a3c-c3b8987c6d5b",
   "metadata": {},
   "outputs": [],
   "source": [
    "answer_department = find_closest_department(api_out, department)"
   ]
  },
  {
   "cell_type": "code",
   "execution_count": 23,
   "id": "e062a9af-2ef3-4132-a2c2-12bb0546fc92",
   "metadata": {},
   "outputs": [
    {
     "data": {
      "text/plain": [
       "'口腔粘膜病专业'"
      ]
     },
     "execution_count": 23,
     "metadata": {},
     "output_type": "execute_result"
    }
   ],
   "source": [
    "answer_department"
   ]
  },
  {
   "cell_type": "code",
   "execution_count": 24,
   "id": "54fe3267-130d-430b-a43f-6baf0a8aaf00",
   "metadata": {},
   "outputs": [],
   "source": [
    "path= 'D:/dialog-TEST.json'\n"
   ]
  },
  {
   "cell_type": "code",
   "execution_count": 28,
   "id": "772ea242-fe9c-41ff-8b30-9306cd3f1cea",
   "metadata": {},
   "outputs": [],
   "source": [
    "save_to_json(new_dialog, department, few_shot, formatted_output, answer_department, source, path)"
   ]
  },
  {
   "cell_type": "code",
   "execution_count": null,
   "id": "2f79b0c8-304d-4a99-ad9d-ff176797e737",
   "metadata": {},
   "outputs": [],
   "source": []
  }
 ],
 "metadata": {
  "kernelspec": {
   "display_name": "xx",
   "language": "python",
   "name": "xx"
  },
  "language_info": {
   "codemirror_mode": {
    "name": "ipython",
    "version": 3
   },
   "file_extension": ".py",
   "mimetype": "text/x-python",
   "name": "python",
   "nbconvert_exporter": "python",
   "pygments_lexer": "ipython3",
   "version": "3.9.19"
  }
 },
 "nbformat": 4,
 "nbformat_minor": 5
}
