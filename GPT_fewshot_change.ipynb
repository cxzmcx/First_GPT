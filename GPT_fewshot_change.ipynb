{
 "cells": [
  {
   "cell_type": "code",
   "execution_count": 1,
   "id": "83f29f8b-7b23-4f39-b670-e2945b2a8d12",
   "metadata": {},
   "outputs": [],
   "source": [
    "import pandas as pd\n",
    "import openai\n",
    "from sklearn.feature_extraction.text import TfidfVectorizer\n",
    "from sklearn.metrics.pairwise import cosine_similarity\n",
    "import re\n",
    "from openai import OpenAI\n",
    "import json\n",
    "from difflib import get_close_matches\n",
    "import numpy as np\n",
    "import jieba\n"
   ]
  },
  {
   "cell_type": "code",
   "execution_count": 2,
   "id": "d3954c84-b2ed-4a79-a7be-060507886eea",
   "metadata": {},
   "outputs": [],
   "source": [
    "file_path = 'D:/example.xlsx'\n",
    "xls = pd.ExcelFile(file_path)\n",
    "sheets = {sheet_name: xls.parse(sheet_name) for sheet_name in xls.sheet_names}\n",
    "standard_dept_file_path = 'D:/标准科室列表.xlsx'\n",
    "std_xls = pd.ExcelFile(standard_dept_file_path)\n",
    "std_sheets = {sheet_name: std_xls.parse(sheet_name) for sheet_name in std_xls.sheet_names}"
   ]
  },
  {
   "cell_type": "code",
   "execution_count": 3,
   "id": "4023cb8d-791f-4e61-b18a-aa3c506ea08a",
   "metadata": {},
   "outputs": [],
   "source": [
    "client = OpenAI(\n",
    "    api_key = \"\",\n",
    "    base_url = \"https://api.moonshot.cn/v1\",\n",
    ")\n"
   ]
  },
  {
   "cell_type": "code",
   "execution_count": 4,
   "id": "0aa2194d-731e-4baf-a42f-32472d4a45dd",
   "metadata": {},
   "outputs": [],
   "source": [
    "def determine_source(new_dialog, sheets):\n",
    "    # 将所有工作表的数据合并\n",
    "    all_data = []\n",
    "    for sheet_name, df in sheets.items():\n",
    "        for dialogue in df['dialogue']:\n",
    "            all_data.append((sheet_name, dialogue))\n",
    "    \n",
    "    # 创建一个 DataFrame 存储所有数据\n",
    "    all_df = pd.DataFrame(all_data, columns=['sheet_name', 'dialogue'])\n",
    "    \n",
    "    # 使用 TfidfVectorizer 对所有数据进行向量化\n",
    "    vectorizer = TfidfVectorizer()\n",
    "    tfidf_matrix = vectorizer.fit_transform(all_df['dialogue'].astype(str))\n",
    "    \n",
    "    # 对新的对话进行向量化\n",
    "    new_dialog_tfidf = vectorizer.transform([new_dialog])\n",
    "    \n",
    "    # 计算相似度\n",
    "    cos_sim = cosine_similarity(new_dialog_tfidf, tfidf_matrix).flatten()\n",
    "    max_sim_index = cos_sim.argmax()\n",
    "    \n",
    "    # 返回最相似对话的工作表名称\n",
    "    best_source = all_df.loc[max_sim_index, 'sheet_name']\n",
    "    \n",
    "    return best_source\n"
   ]
  },
  {
   "cell_type": "code",
   "execution_count": 5,
   "id": "d7f3c76f-cc18-4c67-b5c4-6acdd07765d0",
   "metadata": {},
   "outputs": [],
   "source": [
    "def find_similar_examples(new_dialog, df):\n",
    "    vectorizer = TfidfVectorizer()\n",
    "    tfidf_matrix = vectorizer.fit_transform(df['dialogue'].astype(str))\n",
    "    new_dialog_tfidf = vectorizer.transform([new_dialog])\n",
    "    cos_sim = cosine_similarity(new_dialog_tfidf, tfidf_matrix)\n",
    "    similar_indices = cos_sim[0].argsort()[-3:][::-1]  # 获取最相似的三个索引\n",
    "    second_most_similar_index = similar_indices[1]  # 取第二个相似的索引\n",
    "    return df.iloc[[second_most_similar_index]]\n"
   ]
  },
  {
   "cell_type": "code",
   "execution_count": 6,
   "id": "d0af31f4-e237-42eb-9d8f-f8338bf44961",
   "metadata": {},
   "outputs": [],
   "source": [
    "# 生成COT\n",
    "def generate_cot(dialogue, answer):\n",
    "    prompt = f\"\"\"对话: {dialogue}\n",
    "               问题: 患者应该挂什么科？\n",
    "               请根据{dialogue}和{answer}来生成详细的推理过程和最终的建议，建议去的专业是{answer},输出不要包含对话，只包含推理过程和建议\"\"\"\n",
    "    response =  client.chat.completions.create(\n",
    "        model= \"moonshot-v1-8k\",\n",
    "        messages=[\n",
    "            {\"role\": \"system\", \"content\": \"你是一名医生助手。\"},\n",
    "            {\"role\": \"user\", \"content\": prompt},\n",
    "        ],\n",
    "        max_tokens=600,\n",
    "        temperature=0.7,\n",
    "        top_p=0.9,\n",
    "        n=1,\n",
    "        stop=None\n",
    "    )\n",
    "    cot = response.choices[0].message.content\n",
    "    lines = [line.strip() for line in  cot.split('\\n') if line.strip()]  \n",
    "    formatted_output = ' '.join(lines)\n",
    "    return formatted_output\n"
   ]
  },
  {
   "cell_type": "code",
   "execution_count": 7,
   "id": "2333427d-5ca7-4947-bcbd-f3375cf10762",
   "metadata": {},
   "outputs": [],
   "source": [
    "# 生成Few Shot\n",
    "def generate_few_shot(similar_examples):\n",
    "    few_shot = \"\"\n",
    "    for _, row in similar_examples.iterrows():\n",
    "        dialogue = row['dialogue']\n",
    "        answer = row['answer']\n",
    "        cot = generate_cot(dialogue, answer)\n",
    "        few_shot += f\"\"\"对话: {dialogue}\n",
    "        问题: 患者应该挂什么科？\n",
    "        思维链: {cot}\"\"\"\n",
    "    return few_shot\n"
   ]
  },
  {
   "cell_type": "code",
   "execution_count": 8,
   "id": "05fb8e79-57fc-4ace-9a24-5241623dc0a5",
   "metadata": {},
   "outputs": [],
   "source": [
    "# 定义一个函数来获取候选科室\n",
    "def get_candidate_departments(department, std_sheets):\n",
    "    if department in std_sheets:\n",
    "        return std_sheets[department].iloc[:, 0].tolist()  # 获取第一列的所有值\n",
    "    return []\n",
    "    \n"
   ]
  },
  {
   "cell_type": "code",
   "execution_count": 9,
   "id": "cc38fb7d-a25b-444b-b465-4bcdea2b9579",
   "metadata": {},
   "outputs": [],
   "source": [
    "# 生成最终Prompt\n",
    "def generate_final_prompt(new_dialog, few_shot,departments):\n",
    "    prompt = (f\"{few_shot}\"\n",
    "              f\"新的对话: {new_dialog}\"\n",
    "              f\"问题: 患者应该挂什么科？\"\n",
    "              f\"请根据以上示例生成详细的推理过程和最终的建议，不要包含对话，只包含推理过程和建议，最终的建议挂的科室在{departments}寻找。\")\n",
    "    return prompt\n"
   ]
  },
  {
   "cell_type": "code",
   "execution_count": 10,
   "id": "058ea841-c5ad-4bf6-ac3a-b8d64a7dcb24",
   "metadata": {},
   "outputs": [],
   "source": [
    "# API输出\n",
    "def get_api_output(prompt):\n",
    "    response =  client.chat.completions.create(\n",
    "        model = \"moonshot-v1-8k\",\n",
    "        messages=[\n",
    "            {\"role\": \"system\", \"content\": \"你是一名医生助手。\"},\n",
    "            {\"role\": \"user\", \"content\": prompt},\n",
    "        ],\n",
    "        max_tokens=600,\n",
    "        temperature=0.7,\n",
    "        top_p=0.9,\n",
    "        n=1,\n",
    "        stop=None\n",
    "    )\n",
    "    api_out = response.choices[0].message.content\n",
    "\n",
    "    lines = [line.strip() for line in api_out.split('\\n') if line.strip()] \n",
    "    formatted_output = ' '.join(lines)\n",
    "    return formatted_output\n"
   ]
  },
  {
   "cell_type": "code",
   "execution_count": 97,
   "id": "f79e1e6f-997c-4598-b3ce-2c78a0424313",
   "metadata": {},
   "outputs": [],
   "source": [
    "def find_closest_department(api_out_content, candidate_departments):\n",
    "    # 确保 api_out_content 是一个字符串\n",
    "    if isinstance(api_out_content, tuple):\n",
    "        api_out_content = ''.join(api_out_content)   \n",
    "    # 找到并提取建议内容\n",
    "    suggestion_start = api_out_content.find('建议')\n",
    "    if suggestion_start != -1:\n",
    "        suggestion = api_out_content[suggestion_start:].replace('建议', '').strip()\n",
    "    else:\n",
    "        return \"无建议内容\"\n",
    "    #print(suggestion)\n",
    "    # 分词\n",
    "    suggestion_tokens = ' '.join(jieba.lcut(suggestion))\n",
    "    department_tokens = [' '.join(jieba.lcut(dept)) for dept in candidate_departments]\n",
    "\n",
    "    # 使用TF-IDF计算相似度\n",
    "    vectorizer = TfidfVectorizer().fit_transform([suggestion_tokens] + department_tokens)\n",
    "    vectors = vectorizer.toarray()\n",
    "\n",
    "    cosine_matrix = cosine_similarity(vectors)\n",
    "    similarity_scores = cosine_matrix[0][1:]  # 与候选科室的相似度\n",
    "\n",
    "    # 输出相似度分数，便于调试\n",
    "    for dept, score in zip(candidate_departments, similarity_scores):\n",
    "        print(f\"科室: {dept}, 相似度得分: {score}\")\n",
    "\n",
    "    # 找到最相似的科室\n",
    "    best_match_index = np.argmax(similarity_scores)\n",
    "    return candidate_departments[best_match_index] if similarity_scores[best_match_index] > 0 else \"其它\"\n"
   ]
  },
  {
   "cell_type": "code",
   "execution_count": 78,
   "id": "cc4328e9-d294-4c52-a51e-16ff06079ff5",
   "metadata": {},
   "outputs": [],
   "source": [
    "# def find_closest_department(api_out_content, candidate_departments):\n",
    "#     # 确保 api_out_content 是一个字符串\n",
    "#     if isinstance(api_out_content, tuple):\n",
    "#         api_out_content = ''.join(api_out_content)\n",
    "    \n",
    "#     # 找到并提取建议内容\n",
    "#     suggestion_start = api_out_content.find('建议')\n",
    "#     if suggestion_start != -1:\n",
    "#         suggestion = api_out_content[suggestion_start:].replace('建议', '').strip()\n",
    "#     else:\n",
    "#         return \"无建议内容\"\n",
    "#     #print(suggestion)\n",
    "#     # 分词\n",
    "#     #suggestion_tokens = ' '.join(jieba.lcut(suggestion))\n",
    "#     #department_tokens = [' '.join(jieba.lcut(dept)) for dept in candidate_departments]\n",
    "#     matched_departments = []\n",
    "#     for token in candidate_departments:\n",
    "#         if token in suggestion:\n",
    "#             matched_departments.append(token)\n",
    "#     return matched_departments"
   ]
  },
  {
   "cell_type": "code",
   "execution_count": 12,
   "id": "b7c68c47-b8d9-4817-bd47-bd33bba5c5fe",
   "metadata": {},
   "outputs": [],
   "source": [
    "# 将结果保存为 JSON 文件\n",
    "def save_to_json(new_dialog, departments, few_shot, api_output, answer_department, source, file_path):\n",
    "   \n",
    "    data = {\n",
    "        \"dialogue\": new_dialog,\n",
    "        \"department\": departments,\n",
    "        \"few_shot\": few_shot,\n",
    "        \"question\": \"患者应该挂什么科？\",\n",
    "        \"api_output\": api_output,\n",
    "        \"answer_department\": answer_department,\n",
    "        \"sample_id\": \"sample_12\",  # 更新样本 ID\n",
    "        \"source\": source\n",
    "    }\n",
    "    # 使用 json.dumps 格式化 JSON 字符串\n",
    "    formatted_json = json.dumps(data, ensure_ascii=False, indent=4)\n",
    "\n",
    "    # 自定义处理数组的输出格式\n",
    "    # 查找所有数组的内容\n",
    "    formatted_json = re.sub(r'(\\[[^\\[\\]]*\\])', lambda m: m.group(1).replace('\\n', '').replace('  ', ''), formatted_json)\n",
    "    formatted_json = formatted_json.replace('\\\\n', '\\n')\n",
    "\n",
    "    with open(file_path, 'w', encoding='utf-8') as f:\n",
    "        f.write(formatted_json)\n",
    "\n"
   ]
  },
  {
   "cell_type": "code",
   "execution_count": 81,
   "id": "cc9a4de9-85b3-4da6-be03-41c0f65591f5",
   "metadata": {},
   "outputs": [],
   "source": [
    "new_dialog = \"患者：2岁小孩嘴里长了很多小泡，应该去哪个科？\""
   ]
  },
  {
   "cell_type": "code",
   "execution_count": 82,
   "id": "040ec58e-3c87-422f-916d-72bdfb0f9ff7",
   "metadata": {},
   "outputs": [],
   "source": [
    "source = determine_source(new_dialog, sheets)"
   ]
  },
  {
   "cell_type": "code",
   "execution_count": 83,
   "id": "c091f042-811e-42ca-92d2-7dbfbe140896",
   "metadata": {},
   "outputs": [
    {
     "data": {
      "text/plain": [
       "'专科-口腔'"
      ]
     },
     "execution_count": 83,
     "metadata": {},
     "output_type": "execute_result"
    }
   ],
   "source": [
    "source"
   ]
  },
  {
   "cell_type": "code",
   "execution_count": 84,
   "id": "8bec18e3-c9f7-44f1-80ff-ff21514c03f2",
   "metadata": {},
   "outputs": [],
   "source": [
    "similar_examples = find_similar_examples(new_dialog, sheets[source])"
   ]
  },
  {
   "cell_type": "code",
   "execution_count": 85,
   "id": "4270c619-2f85-47aa-a508-45d45c7139cf",
   "metadata": {},
   "outputs": [
    {
     "data": {
      "text/html": [
       "<div>\n",
       "<style scoped>\n",
       "    .dataframe tbody tr th:only-of-type {\n",
       "        vertical-align: middle;\n",
       "    }\n",
       "\n",
       "    .dataframe tbody tr th {\n",
       "        vertical-align: top;\n",
       "    }\n",
       "\n",
       "    .dataframe thead th {\n",
       "        text-align: right;\n",
       "    }\n",
       "</style>\n",
       "<table border=\"1\" class=\"dataframe\">\n",
       "  <thead>\n",
       "    <tr style=\"text-align: right;\">\n",
       "      <th></th>\n",
       "      <th>dialogue</th>\n",
       "      <th>answer</th>\n",
       "    </tr>\n",
       "  </thead>\n",
       "  <tbody>\n",
       "    <tr>\n",
       "      <th>5</th>\n",
       "      <td>患者：男，41岁，口气比较严重，应该去哪个科？\\n医生：了解了，请问您这种口气问题大概持续了...</td>\n",
       "      <td>牙周病专业|牙体牙髓病专业</td>\n",
       "    </tr>\n",
       "  </tbody>\n",
       "</table>\n",
       "</div>"
      ],
      "text/plain": [
       "                                            dialogue         answer\n",
       "5  患者：男，41岁，口气比较严重，应该去哪个科？\\n医生：了解了，请问您这种口气问题大概持续了...  牙周病专业|牙体牙髓病专业"
      ]
     },
     "execution_count": 85,
     "metadata": {},
     "output_type": "execute_result"
    }
   ],
   "source": [
    "similar_examples"
   ]
  },
  {
   "cell_type": "code",
   "execution_count": 86,
   "id": "83b38dbc-66b9-4429-8930-3f05c738690e",
   "metadata": {},
   "outputs": [],
   "source": [
    "few_shot = generate_few_shot(similar_examples)\n"
   ]
  },
  {
   "cell_type": "code",
   "execution_count": 87,
   "id": "54afef34-06e7-411b-b10d-333705c7dadc",
   "metadata": {},
   "outputs": [],
   "source": [
    "departments = get_candidate_departments(source, std_sheets)\n"
   ]
  },
  {
   "cell_type": "code",
   "execution_count": 88,
   "id": "4ee125d8-62de-4283-8d8b-df55fb55226c",
   "metadata": {},
   "outputs": [
    {
     "data": {
      "text/plain": [
       "['牙体牙髓病专业',\n",
       " '牙周病专业',\n",
       " '口腔粘膜病专业',\n",
       " '儿童口腔专业',\n",
       " '口腔颌面外科专业',\n",
       " '口腔外科',\n",
       " '口腔颅颌面科',\n",
       " '口腔头颈颌面肿瘤科',\n",
       " '口腔修复专业',\n",
       " '口腔正畸专业',\n",
       " '口腔种植专业',\n",
       " '口腔麻醉专业',\n",
       " '口腔颌面医学影像专业',\n",
       " '口腔病理专业',\n",
       " '预防口腔专业',\n",
       " '其他']"
      ]
     },
     "execution_count": 88,
     "metadata": {},
     "output_type": "execute_result"
    }
   ],
   "source": [
    "departments"
   ]
  },
  {
   "cell_type": "code",
   "execution_count": 89,
   "id": "d1c17f6a-20d0-467d-a37a-23d92607c4f9",
   "metadata": {},
   "outputs": [],
   "source": [
    "final_prompt = generate_final_prompt(new_dialog, few_shot,departments )"
   ]
  },
  {
   "cell_type": "code",
   "execution_count": 90,
   "id": "0ecbf6e6-d6c3-4ccc-adb9-dc3e9d6e9bc0",
   "metadata": {},
   "outputs": [],
   "source": [
    "api_out = get_api_output(final_prompt)\n"
   ]
  },
  {
   "cell_type": "code",
   "execution_count": 91,
   "id": "d9344dd9-1e99-4fdb-888d-66df6e423076",
   "metadata": {},
   "outputs": [
    {
     "data": {
      "text/plain": [
       "'推理过程： 1. 患者为2岁小孩，主诉为嘴里长了很多小泡，这可能是口腔黏膜的病变。 2. 口腔内小泡可能是由多种原因引起的，包括病毒感染（如手足口病）、细菌感染、过敏反应、营养不良等。 3. 需要专业的口腔医生进行详细检查，以确定小泡的性质和原因。 4. 考虑到患者是儿童，儿童口腔专业的医生更了解儿童口腔的特点和常见问题，因此更可能给出准确的诊断和治疗建议。 最终建议： 患者应该挂儿童口腔专业进行进一步的检查和治疗。医生可能会进行口腔检查，评估小泡的性质，必要时进行相应的治疗，并提供预防措施和口腔护理指导，以避免类似情况的再次发生。如果儿童口腔专业无法解决，可能需要转诊至口腔粘膜病专业进一步诊治。'"
      ]
     },
     "execution_count": 91,
     "metadata": {},
     "output_type": "execute_result"
    }
   ],
   "source": [
    "api_out\n"
   ]
  },
  {
   "cell_type": "code",
   "execution_count": 98,
   "id": "a8428140-587e-48c2-9637-22cc76ac4646",
   "metadata": {},
   "outputs": [
    {
     "name": "stdout",
     "output_type": "stream",
     "text": [
      "科室: 牙体牙髓病专业, 相似度得分: 0.04275800127276682\n",
      "科室: 牙周病专业, 相似度得分: 0.05842644875703232\n",
      "科室: 口腔粘膜病专业, 相似度得分: 0.1743620336043013\n",
      "科室: 儿童口腔专业, 相似度得分: 0.3429991525678351\n",
      "科室: 口腔颌面外科专业, 相似度得分: 0.1165506201993513\n",
      "科室: 口腔外科, 相似度得分: 0.0874254200060733\n",
      "科室: 口腔颅颌面科, 相似度得分: 0.10280740046861556\n",
      "科室: 口腔头颈颌面肿瘤科, 相似度得分: 0.05127210952313436\n",
      "科室: 口腔修复专业, 相似度得分: 0.1280867406207698\n",
      "科室: 口腔正畸专业, 相似度得分: 0.1280867406207698\n",
      "科室: 口腔种植专业, 相似度得分: 0.1280867406207698\n",
      "科室: 口腔麻醉专业, 相似度得分: 0.1280867406207698\n",
      "科室: 口腔颌面医学影像专业, 相似度得分: 0.108657359377587\n",
      "科室: 口腔病理专业, 相似度得分: 0.1280867406207698\n",
      "科室: 预防口腔专业, 相似度得分: 0.1280867406207698\n",
      "科室: 其他, 相似度得分: 0.0\n"
     ]
    }
   ],
   "source": [
    "answer_department = find_closest_department(api_out, departments)\n"
   ]
  },
  {
   "cell_type": "code",
   "execution_count": 99,
   "id": "cbcc0967-5cd7-4d22-8e65-4df2ee4978b8",
   "metadata": {},
   "outputs": [
    {
     "data": {
      "text/plain": [
       "'儿童口腔专业'"
      ]
     },
     "execution_count": 99,
     "metadata": {},
     "output_type": "execute_result"
    }
   ],
   "source": [
    "answer_department"
   ]
  },
  {
   "cell_type": "code",
   "execution_count": 50,
   "id": "50258a8d-432b-4739-8cc8-e294bca4447f",
   "metadata": {},
   "outputs": [],
   "source": [
    "file_path = 'D:/dialog-T.json'"
   ]
  },
  {
   "cell_type": "code",
   "execution_count": 51,
   "id": "fb9d3c37-8b22-4071-a58b-7deb5ee9b21d",
   "metadata": {},
   "outputs": [],
   "source": [
    "save_to_json(new_dialog, departments, few_shot, api_out, answer_department, source, file_path)"
   ]
  },
  {
   "cell_type": "code",
   "execution_count": null,
   "id": "cf659ac0-bfab-4207-9b10-68c620e4bff3",
   "metadata": {},
   "outputs": [],
   "source": []
  }
 ],
 "metadata": {
  "kernelspec": {
   "display_name": "xx",
   "language": "python",
   "name": "xx"
  },
  "language_info": {
   "codemirror_mode": {
    "name": "ipython",
    "version": 3
   },
   "file_extension": ".py",
   "mimetype": "text/x-python",
   "name": "python",
   "nbconvert_exporter": "python",
   "pygments_lexer": "ipython3",
   "version": "3.9.19"
  }
 },
 "nbformat": 4,
 "nbformat_minor": 5
}
